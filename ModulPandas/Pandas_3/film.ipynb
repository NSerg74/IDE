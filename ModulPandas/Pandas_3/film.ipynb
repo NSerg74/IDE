{
 "cells": [
  {
   "cell_type": "markdown",
   "metadata": {},
   "source": [
    "**Работа с датасетом  MovieLens\n",
    "Данный датасет представляет небольшую базу данных состоящию из 4 таблиц типа csv\n",
    "Описание данных:\n",
    "\n",
    "Таблица ratings1, ratings2 (таблицы с данными о выставленных пользователями оценках фильмов):\n",
    "    userId      — уникальный идентификатор пользователя, который выставил оценку;\n",
    "    movieId     — уникальный идентификатор фильма;\n",
    "    rating      — рейтинг фильма;\n",
    "Таблица dates (таблица с датами выставления всех оценок):\n",
    "    date — дата и время выставления оценки фильму.\n",
    "Таблица movies (таблица с инф о фильме):\n",
    "    movieId     — уникальный идентификатор фильма;\n",
    "    title       — название фильма и год его выхода;\n",
    "    genres      — жанры фильма.\n"
   ]
  },
  {
   "cell_type": "code",
   "execution_count": null,
   "metadata": {},
   "outputs": [],
   "source": [
    "import pandas as pd\n",
    "\n",
    "#первая задача все разрозненные таблицы свести в одну\n"
   ]
  }
 ],
 "metadata": {
  "kernelspec": {
   "display_name": "Python 3",
   "language": "python",
   "name": "python3"
  },
  "language_info": {
   "codemirror_mode": {
    "name": "ipython",
    "version": 3
   },
   "file_extension": ".py",
   "mimetype": "text/x-python",
   "name": "python",
   "nbconvert_exporter": "python",
   "pygments_lexer": "ipython3",
   "version": "3.13.0"
  }
 },
 "nbformat": 4,
 "nbformat_minor": 2
}
