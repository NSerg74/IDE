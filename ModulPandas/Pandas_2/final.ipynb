{
 "cells": [
  {
   "cell_type": "markdown",
   "metadata": {},
   "source": [
    "В финальном задании будем анализировать таблицу с поездками на байках"
   ]
  },
  {
   "cell_type": "code",
   "execution_count": 1,
   "metadata": {},
   "outputs": [
    {
     "data": {
      "text/plain": [
       "weekend\n",
       "0    184865\n",
       "1    115135\n",
       "Name: count, dtype: int64"
      ]
     },
     "metadata": {},
     "output_type": "display_data"
    },
    {
     "name": "stdout",
     "output_type": "stream",
     "text": [
      "Количество поездок днем = 143012, кол поездок ночью = 15085, те в 9 раз больше\n"
     ]
    }
   ],
   "source": [
    "import pandas as pd\n",
    "\n",
    "data = pd.read_csv ('Data/citibike.csv')\n",
    "data_bike = data.copy()\n",
    "\n",
    "#data_bike.info()\n",
    "\n",
    "#информация по признакам\n",
    "# starttime — время начала поездки (дата, время);\n",
    "# stoptime — время окончания поездки (дата, время);\n",
    "# start station id — идентификатор стартовой стоянки(можно в категорию перевести);\n",
    "# start station name — название стартовой стоянки(можно в категорию перевести);\n",
    "# start station latitude, start station longitude — географическая широта и долгота стартовой стоянки;\n",
    "# end station id — идентификатор конечной стоянки(можно в категорию перевести);\n",
    "# end station name — название конечной стоянки (можно в категорию перевести);\n",
    "# end station latitude, end station longitude — географическая широта и долгота конечной стоянки;\n",
    "# bikeid — идентификатор велосипеда;\n",
    "# usertype — тип пользователя (Customer — клиент с подпиской на 24 часа или на три дня, Subscriber — подписчик с годовой арендой велосипеда) (можно в категорию перевести);\n",
    "# birth year — год рождения клиента;\n",
    "# gender — пол клиента (0 — неизвестный, 1 — мужчина, 2 — женщина) (можно в категорию перевести)\n",
    "\n",
    "\n",
    "# Задание 1 Найдите идентификатор самой популярной стартовой стоянки. Запишите идентификатор в виде целого числа.\n",
    "#display(data_bike.head(n=2))\n",
    "data_bike['start station id'].value_counts()\n",
    "\n",
    "# Задание 2 Велосипед с каким идентификатором является самым популярным?\n",
    "data_bike['bikeid'].value_counts()\n",
    "\n",
    "# Задание 3 Какой тип клиентов (столбец usertype) является преобладающим — Subscriber или Customer? \n",
    "# В качестве ответа запишите долю клиентов преобладающего типа среди общего количества клиентов. Ответ округлите до сотых\n",
    "user = data_bike['usertype'].value_counts(normalize=True)\n",
    "#display(user)\n",
    "\n",
    "# Задание 4 Кто больше совершает велопоездок мужчины или женщины, запишете число\n",
    "user_gender = data_bike['gender'].value_counts(normalize=False)\n",
    "#display(user_gender.max())\n",
    "\n",
    "# Задание 5 удалить дублирующие друг друга признаки\n",
    "data_bike = data_bike.drop(['start station id', 'end station id'], axis=1)\t\t\n",
    "\n",
    "# Задание 6 Замените признак birth year на более понятный признак возраста клиента age. \n",
    "# Годом отсчёта возраста выберите 2018 год. Столбец birth year удалите из таблицы. Сколько поездок совершено клиентами старше 60 лет\n",
    "data_bike['age'] = 2018 - data_bike['birth year']\n",
    "data_bike = data_bike.drop('birth year', axis=1)\n",
    "data_bike[data_bike['age'] > 60].shape\n",
    "\n",
    "# Задание 7 Создайте признак длительности поездки trip duration. \n",
    "# Для этого вычислите интервал времени между временем окончания поездки (stoptime) и её началом (starttime). Сколько целых минут длилась поездка под индексом 3 в таблице?\n",
    "\n",
    "#создадим новый признак\n",
    "data_bike['starttime'] = pd.to_datetime(data_bike['starttime'])\n",
    "data_bike['stoptime'] = pd.to_datetime(data_bike['stoptime'])\n",
    "data_bike['trip duration'] = data_bike['stoptime'] - data_bike['starttime']\n",
    "#data_bike.head(n=4) \n",
    "\n",
    "# Задание 8 Создайте «признак-мигалку» weekend, который равен 1, если поездка начиналась в выходной день (суббота или воскресенье), и 0 — в противном случае. Выясните, сколько поездок начиналось в выходные.\n",
    "data_bike['weekend'] = data_bike['starttime'].dt.dayofweek\n",
    "def get_weekend(weekday):\n",
    "    if weekday == 5 or weekday == 6:\n",
    "        return 1\n",
    "    else:\n",
    "        return 0\n",
    "\n",
    "data_bike['weekend'] = data_bike['weekend'].apply(get_weekend) \n",
    "display(data_bike['weekend'].value_counts()) \n",
    "    \n",
    "# Задание 9 Создайте признак времени суток поездки time_of_day. Время суток будем определять из часа начала поездки. Условимся, что:\n",
    "# поездка совершается ночью (night), если её час приходится на интервал от 0 (включительно) до 6 (включительно) часов;\n",
    "# поездка совершается утром (morning), если её час приходится на интервал от 6 (не включительно) до 12 (включительно) часов;\n",
    "# поездка совершается днём (day), если её час приходится на интервал от 12 (не включительно) до 18 (включительно) часов;\n",
    "# поездка совершается вечером (evening), если её час приходится на интервал от 18 (не включительно) до 23 часов (включительно).\n",
    "# Во сколько раз количество поездок, совершённых днём, больше, чем количество поездок, совёршенных ночью, за представленный в данных период времени? Ответ округлите до целых.\n",
    "\n",
    "#функция которая смотри сколько часов и возвращает значение день или утро в зависимости от часа, когда началась поездка\n",
    "def searh_night_day (hours):\n",
    "    time = hours.hour\n",
    "    if 0 <= time <= 6: \n",
    "        return 'night'\n",
    "    if 6 < time <= 12:\n",
    "        return 'morning'\n",
    "    if 12 < time <= 18:\n",
    "        return 'day'\n",
    "    if 18 < time <= 23:\n",
    "        return 'evening'\n",
    "#далее делаем новый столбец и применим функцию ко всем строкам\n",
    "data_bike['time_of_day'] = data_bike['starttime'].apply(searh_night_day)\n",
    "\n",
    "#сделаем выборку по маске и посмотри кол строк:\n",
    "day = data_bike[data_bike['time_of_day'] == 'day'].shape[0]\n",
    "night = data_bike[data_bike['time_of_day'] == 'night'].shape[0]\n",
    "print(f'Количество поездок днем = {day}, кол поездок ночью = {night}, те в {round(day/night)} раз больше')\n",
    " "
   ]
  }
 ],
 "metadata": {
  "kernelspec": {
   "display_name": "Python 3",
   "language": "python",
   "name": "python3"
  },
  "language_info": {
   "codemirror_mode": {
    "name": "ipython",
    "version": 3
   },
   "file_extension": ".py",
   "mimetype": "text/x-python",
   "name": "python",
   "nbconvert_exporter": "python",
   "pygments_lexer": "ipython3",
   "version": "3.13.0"
  }
 },
 "nbformat": 4,
 "nbformat_minor": 2
}
