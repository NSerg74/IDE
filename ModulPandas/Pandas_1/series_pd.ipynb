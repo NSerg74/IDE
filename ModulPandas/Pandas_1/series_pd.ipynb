{
 "cells": [
  {
   "cell_type": "code",
   "execution_count": null,
   "metadata": {},
   "outputs": [],
   "source": [
    "import pandas as pd\n",
    "\n",
    "#1 способ инициализации Series\n",
    "countries = pd.Series(\n",
    "    data = ['Англия', 'Канада', 'США', 'Россия', 'Украина', 'Беларусь', 'Казахстан'],\n",
    "    index = ['UK', 'CA', 'US', 'RU', 'UA', 'BY', 'KZ'],\n",
    "    name = 'countries'\n",
    ")\n",
    "#display(countries)\n",
    "\n",
    "#print(countries.loc[['US', 'RU', 'UK']])\n",
    "print(countries.iloc[1:4])"
   ]
  },
  {
   "cell_type": "code",
   "execution_count": null,
   "metadata": {},
   "outputs": [],
   "source": [
    "#2 способ инициализации Series\n",
    "countries = pd.Series({\n",
    "    'UK': 'Англия',\n",
    "    'CA': 'Канада',\n",
    "    'US' : 'США',\n",
    "    'RU': 'Россия',\n",
    "    'UA': 'Украина',\n",
    "    'BY': 'Беларусь',\n",
    "    'KZ': 'Казахстан'},\n",
    "    name = 'countries'\n",
    ")\n",
    "display(countries)"
   ]
  },
  {
   "cell_type": "code",
   "execution_count": 16,
   "metadata": {},
   "outputs": [
    {
     "name": "stdout",
     "output_type": "stream",
     "text": [
      "37.5\n"
     ]
    }
   ],
   "source": [
    "import pandas as pd\n",
    "\n",
    "names=['chlorhexidine', 'cyntomycin', 'afobazol']\n",
    "counts=[15, 18, 7]\n",
    "\n",
    "#на входе два списка, на выходе тип Series полученный из этих списков\n",
    "def create_medications(names, counts):\n",
    "    \n",
    "    med = pd.Series(\n",
    "    data = counts,\n",
    "    index = names)\n",
    "    \n",
    "    return med\n",
    "\n",
    "#расчет прцента опр кол med от общего кол всех med\n",
    "def get_percent(medications, name):\n",
    "    #количество конкретного лекарства\n",
    "    value = medications[name]\n",
    "    #количество всех\n",
    "    total = medications.sum()\n",
    "    if total == 0:\n",
    "            print(\"Ошибка: общее количество лекарств равно нулю.\")\n",
    "            return None\n",
    "    else:   \n",
    "        #расчитываем процент\n",
    "        return (value/total) * 100\n",
    "   \n",
    "    \n",
    "\n",
    "medications = create_medications(names, counts)\n",
    "print(get_percent(medications, \"chlorhexidine\")) \n",
    "\n",
    "\n",
    "\n"
   ]
  }
 ],
 "metadata": {
  "kernelspec": {
   "display_name": "Python 3",
   "language": "python",
   "name": "python3"
  },
  "language_info": {
   "codemirror_mode": {
    "name": "ipython",
    "version": 3
   },
   "file_extension": ".py",
   "mimetype": "text/x-python",
   "name": "python",
   "nbconvert_exporter": "python",
   "pygments_lexer": "ipython3",
   "version": "3.13.0"
  }
 },
 "nbformat": 4,
 "nbformat_minor": 2
}
