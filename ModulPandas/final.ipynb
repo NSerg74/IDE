{
 "cells": [
  {
   "cell_type": "code",
   "execution_count": 42,
   "metadata": {},
   "outputs": [
    {
     "name": "stdout",
     "output_type": "stream",
     "text": [
      "89 190 319 262 140\n",
      "1\n",
      "70.03410852713178 58.92112676056338\n",
      "11.799999999999999\n",
      "Медиана группы А: 62.0, среднее группы С: 67.82758620689656\n"
     ]
    }
   ],
   "source": [
    "import pandas as pd\n",
    "#скачали данные, посмотрели что за таблица \n",
    "student_data = pd.read_csv('data/stud.csv')\n",
    "#display(student_data.head(n=10))\n",
    "#display(student_data.info())\n",
    "#как итог таблица (1000,8)\n",
    "#описание признаков:\n",
    "#gender — пол;\n",
    "#race/ethnicity — раса/этническая принадлежность;\n",
    "#parental level of education — уровень образования родителей;\n",
    "#lunch — какие обеды получал студент во время обучения (standard — платный, free/reduced — бесплатный);\n",
    "#test preparation course — посещал ли студент курсы подготовки к экзаменам (none — не посещал, completed — посещал);\n",
    "#math score, reading score, writing score — баллы по математике, чтению и письму по сто балльной шкале.\n",
    "\n",
    "#выведим инф по строке 155\n",
    "#display(student_data.iloc[155])\n",
    "\n",
    "#выведим средний средний бал по математике\n",
    "#student_data['math score'].mean()\n",
    "\n",
    "#выведим кол строк по каждому типу рассовой принадлежности\n",
    "A = student_data[student_data['race/ethnicity'] == 'group A'].shape[0]\n",
    "B = student_data[student_data['race/ethnicity'] == 'group B'].shape[0]\n",
    "C = student_data[student_data['race/ethnicity'] == 'group C'].shape[0]\n",
    "D = student_data[student_data['race/ethnicity'] == 'group D'].shape[0]\n",
    "E = student_data[student_data['race/ethnicity'] == 'group E'].shape[0]\n",
    "print(A, B, C, D, E)\n",
    "\n",
    "#Каков средний балл по чтению у студентов, которые посещали курсы подготовки к экзаменам?\n",
    "student_data[student_data['test preparation course'] == 'completed']['reading score'].mean()\n",
    "\n",
    "#Сколько студентов получили 0 баллов по математике?\n",
    "ball_math = student_data[student_data['math score'] == 0].shape[0]\n",
    "print(ball_math)\n",
    "\n",
    "#Проверьте гипотезу: у студентов с оплачиваемым питанием средний балл по математике выше, чем у студентов с льготным питанием.\n",
    "#В качестве ответа напишите наибольший средний балл по математике среди этих групп студентов.\n",
    "media_standart = student_data[student_data['lunch'] == 'standard']['math score'].mean()\n",
    "media_free = student_data[student_data['lunch'] == 'free/reduced']['math score'].mean()\n",
    "print(media_standart, media_free)\n",
    "\n",
    "#Каков процент студентов, родители которых имеют высшее образование уровня бакалавриата (bachelor's degree)?\n",
    "A = student_data[student_data['parental level of education'] == \"bachelor's degree\"].shape[0]\n",
    "print((A/1000)*100)\n",
    "\n",
    "\n",
    "#Насколько медианный балл по письму у студентов в расовой группе А отличается от среднего балла по письму у студентов в расовой группе C?\n",
    "A_group = student_data[student_data['race/ethnicity'] == 'group A']['writing score'].median()\n",
    "C_group = student_data[student_data['race/ethnicity'] == 'group C']['writing score'].mean()\n",
    "print(f'Медиана группы А: {A_group}, среднее группы С: {C_group}')\n"
   ]
  }
 ],
 "metadata": {
  "kernelspec": {
   "display_name": "Python 3",
   "language": "python",
   "name": "python3"
  },
  "language_info": {
   "codemirror_mode": {
    "name": "ipython",
    "version": 3
   },
   "file_extension": ".py",
   "mimetype": "text/x-python",
   "name": "python",
   "nbconvert_exporter": "python",
   "pygments_lexer": "ipython3",
   "version": "3.13.0"
  }
 },
 "nbformat": 4,
 "nbformat_minor": 2
}
