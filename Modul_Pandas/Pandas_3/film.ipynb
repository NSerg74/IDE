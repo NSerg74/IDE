{
 "cells": [
  {
   "cell_type": "markdown",
   "metadata": {},
   "source": [
    "**Работа с датасетом  MovieLens\n",
    "Данный датасет представляет небольшую базу данных состоящию из 4 таблиц типа csv\n",
    "Описание данных:\n",
    "\n",
    "Таблица ratings1, ratings2 (таблицы с данными о выставленных пользователями оценках фильмов):\n",
    "    userId      — уникальный идентификатор пользователя, который выставил оценку;\n",
    "    movieId     — уникальный идентификатор фильма;\n",
    "    rating      — рейтинг фильма;\n",
    "Таблица dates (таблица с датами выставления всех оценок):\n",
    "    date — дата и время выставления оценки фильму.\n",
    "Таблица movies (таблица с инф о фильме):\n",
    "    movieId     — уникальный идентификатор фильма;\n",
    "    title       — название фильма и год его выхода;\n",
    "    genres      — жанры фильма.\n"
   ]
  },
  {
   "cell_type": "code",
   "execution_count": null,
   "metadata": {},
   "outputs": [
    {
     "data": {
      "text/plain": [
       "date               \n",
       "2016-04-04 16:39:58    128\n",
       "2016-04-04 16:39:57    124\n",
       "2016-04-04 16:39:56     85\n",
       "2016-04-04 16:39:55     37\n",
       "1996-03-29 18:36:56     37\n",
       "                      ... \n",
       "2018-09-18 01:49:36      1\n",
       "2018-09-18 01:49:54      1\n",
       "2018-09-18 17:58:03      1\n",
       "2018-09-18 17:58:20      1\n",
       "2018-09-17 04:27:31      1\n",
       "Name: count, Length: 85043, dtype: int64"
      ]
     },
     "execution_count": 5,
     "metadata": {},
     "output_type": "execute_result"
    }
   ],
   "source": [
    "import pandas as pd\n",
    "\n",
    "data = pd.read_csv('Data/dates.csv')\n",
    "data['date'] = \n",
    "\n",
    "#первая задача все разрозненные таблицы свести в одну\n"
   ]
  }
 ],
 "metadata": {
  "kernelspec": {
   "display_name": "Python 3",
   "language": "python",
   "name": "python3"
  },
  "language_info": {
   "codemirror_mode": {
    "name": "ipython",
    "version": 3
   },
   "file_extension": ".py",
   "mimetype": "text/x-python",
   "name": "python",
   "nbconvert_exporter": "python",
   "pygments_lexer": "ipython3",
   "version": "3.13.0"
  }
 },
 "nbformat": 4,
 "nbformat_minor": 2
}
