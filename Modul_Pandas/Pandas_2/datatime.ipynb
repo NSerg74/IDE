{
 "cells": [
  {
   "cell_type": "markdown",
   "metadata": {},
   "source": [
    "Работа с универсальным временным форматом datatime библиотеки Pandas"
   ]
  },
  {
   "cell_type": "code",
   "execution_count": 1,
   "metadata": {},
   "outputs": [
    {
     "data": {
      "text/plain": [
       "WeekdaySale\n",
       "5    11759\n",
       "6     1063\n",
       "0      597\n",
       "1      133\n",
       "3       28\n",
       "Name: count, dtype: int64"
      ]
     },
     "metadata": {},
     "output_type": "display_data"
    },
    {
     "name": "stdout",
     "output_type": "stream",
     "text": [
      "В субботу и воскресенье всего былло продано 12822 обьектов\n"
     ]
    }
   ],
   "source": [
    "#Задание 1 \n",
    "# сделать дополнительный признак в какой день недели была продажа обьекта\n",
    "# вывести количество продаж за субботу и воскресенье \n",
    "\n",
    "import pandas as pd\n",
    "\n",
    "data = pd.read_csv('data/data.csv')\n",
    "melb_df = data.copy()\n",
    "\n",
    "#приведем к единому временному формату\n",
    "melb_df['Date'] = pd.to_datetime(melb_df['Date'], dayfirst=True)\n",
    "#создадим новый признак\n",
    "melb_df['WeekdaySale'] = melb_df['Date'].dt.weekday\n",
    "\n",
    "weekend_count = melb_df['WeekdaySale'].value_counts(normalize=False)\n",
    "display(weekend_count)\n",
    "print (f'В субботу и воскресенье всего былло продано {weekend_count[5]+weekend_count[6]} обьектов')\n",
    "\t"
   ]
  },
  {
   "cell_type": "code",
   "execution_count": null,
   "metadata": {},
   "outputs": [
    {
     "data": {
      "text/plain": [
       "Timedelta('-34 days +08:45:00')"
      ]
     },
     "metadata": {},
     "output_type": "display_data"
    },
    {
     "data": {
      "text/plain": [
       "76            NaT\n",
       "172     1678 days\n",
       "565     2767 days\n",
       "566        0 days\n",
       "613      290 days\n",
       "           ...   \n",
       "17447     22 days\n",
       "17567     14 days\n",
       "17617      6 days\n",
       "17890     32 days\n",
       "18104     33 days\n",
       "Name: Time, Length: 284, dtype: timedelta64[ns]"
      ]
     },
     "metadata": {},
     "output_type": "display_data"
    },
    {
     "data": {
      "text/plain": [
       "69"
      ]
     },
     "metadata": {},
     "output_type": "display_data"
    }
   ],
   "source": [
    "# Задание 2\n",
    "# Работа с таблицей ufo.csv\n",
    "\n",
    "import pandas as pd\n",
    "\n",
    "uvo_data = pd.read_csv('Data/ufo.csv')\n",
    "#посомтрим, что там в таблице есть\n",
    "#uvo_data.shape\n",
    "#(18241,5)\n",
    "#uvo_data.info()\n",
    " #   Column           Non-Null Count  Dtype \n",
    "#---  ------           --------------  ----- \n",
    "# 0   City             18215 non-null  object\n",
    "# 1   Colors Reported  2882 non-null   object\n",
    "# 2   Shape Reported   15597 non-null  object\n",
    "# 3   State            18241 non-null  object\n",
    "# 4   Time             18241 non-null  object\n",
    "#uvo_data.head(n=1)\n",
    "#0\tIthaca\tNaN\tTRIANGLE\tNY\t6/1/1930 22:00 дата представлена в Американском формате\n",
    "#сразу сделаем ее в универсальный формат\n",
    "uvo_data['Time'] = pd.to_datetime(uvo_data['Time'])\n",
    "#в каком году наиболее часто наблюдали НЛО\n",
    "uvo_data['Time'].value_counts(sort=True)\n",
    "#найти временной интервал между двумя последними наблюдениями в штате Невада\n",
    "#сделаем выборку по штат Невада\n",
    "data_nevada = uvo_data[uvo_data['State'] == 'NV']\n",
    "#возьмем последние две строчки\n",
    "last = data_nevada.tail(n=2)\n",
    "#а теперь выведем разницу в днях между вдумя посленими событиями\n",
    "display(last.iloc[0]['Time'] - last.iloc[1]['Time'])\n",
    "#найти средний интервал между событиями в Неваде\n",
    "#сначало сделаем выборку просто даты \n",
    "sold_day = data_nevada['Time'].dt.date\n",
    "#получим вот такую таблицу\n",
    "#76  1947-07-15\n",
    "#172 1952-02-17\n",
    "#потом вычислим разницу между двумя соседними значениями с троках\n",
    "delta_days = sold_day.diff()\n",
    "#получим таблицу с timedelta\n",
    "#76     NaT\n",
    "#172    1678 days\n",
    "#а потом timedelta переведем в дни, найдем среднее и округлим до целых\n",
    "display(round(delta_days.dt.days.mean()))\n",
    "\n",
    "\n"
   ]
  }
 ],
 "metadata": {
  "kernelspec": {
   "display_name": "Python 3",
   "language": "python",
   "name": "python3"
  },
  "language_info": {
   "codemirror_mode": {
    "name": "ipython",
    "version": 3
   },
   "file_extension": ".py",
   "mimetype": "text/x-python",
   "name": "python",
   "nbconvert_exporter": "python",
   "pygments_lexer": "ipython3",
   "version": "3.13.0"
  }
 },
 "nbformat": 4,
 "nbformat_minor": 2
}
