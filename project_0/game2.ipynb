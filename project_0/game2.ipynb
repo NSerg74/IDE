{
 "cells": [
  {
   "cell_type": "markdown",
   "metadata": {},
   "source": [
    "#Пример работы импортированной функции"
   ]
  },
  {
   "cell_type": "code",
   "execution_count": 9,
   "metadata": {},
   "outputs": [
    {
     "name": "stdout",
     "output_type": "stream",
     "text": [
      "Сгененрированный лист:\n",
      "[82, 56, 45, 41, 14, 74, 65, 76, 19, 97]\n",
      "Мы нашли число 82, за 6 циклов\n",
      "Мы нашли число 56, за 4 циклов\n",
      "Мы нашли число 45, за 7 циклов\n",
      "Мы нашли число 41, за 6 циклов\n",
      "Мы нашли число 14, за 5 циклов\n",
      "Мы нашли число 74, за 7 циклов\n",
      "Мы нашли число 65, за 5 циклов\n",
      "Мы нашли число 76, за 6 циклов\n",
      "Мы нашли число 19, за 7 циклов\n",
      "Мы нашли число 97, за 5 циклов\n",
      "В среднем мы потратили 5.8 циклов на поиск загаданного числа\n"
     ]
    }
   ],
   "source": [
    "from game import find_number\n",
    "from game import generation_list\n",
    "\n",
    "#воспользуемся импортированной функцией для генерации списка чисел от 0 до 100\n",
    "new_list = generation_list(10)\n",
    "print('Сгененрированный лист:')\n",
    "print(new_list)\n",
    "total_count = 0\n",
    "#попробуем отгадать эти числа\n",
    "for number in new_list:\n",
    "    count = find_number(number)\n",
    "    total_count += count\n",
    "    print(f'Мы нашли число {number}, за {count} циклов')\n",
    "print(f'В среднем мы потратили {total_count/10} циклов на поиск загаданного числа')\n",
    "\n",
    "\n",
    "\n",
    "\n"
   ]
  }
 ],
 "metadata": {
  "kernelspec": {
   "display_name": "Python 3",
   "language": "python",
   "name": "python3"
  },
  "language_info": {
   "codemirror_mode": {
    "name": "ipython",
    "version": 3
   },
   "file_extension": ".py",
   "mimetype": "text/x-python",
   "name": "python",
   "nbconvert_exporter": "python",
   "pygments_lexer": "ipython3",
   "version": "3.13.0"
  }
 },
 "nbformat": 4,
 "nbformat_minor": 2
}
